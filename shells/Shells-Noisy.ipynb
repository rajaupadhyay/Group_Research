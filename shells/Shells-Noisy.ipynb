{
 "cells": [
  {
   "cell_type": "code",
   "execution_count": 66,
   "metadata": {},
   "outputs": [],
   "source": [
    "import csv as csv\n",
    "import numpy as np\n",
    "import matplotlib as plot\n",
    "import matplotlib.pyplot as plt\n",
    "import scipy as sci\n",
    "import scipy.io as sio\n",
    "import sklearn as sk\n",
    "import pandas as pd\n",
    "from sklearn.model_selection import train_test_split, GridSearchCV\n",
    "from sklearn.ensemble import RandomForestRegressor\n",
    "from sklearn.svm import LinearSVC, SVC\n",
    "from sklearn.metrics import accuracy_score, average_precision_score, r2_score\n",
    "from datetime import datetime as dt\n",
    "import copy\n",
    "import operator\n",
    "from scipy.stats import pearsonr\n",
    "import itertools\n",
    "import multiprocessing\n",
    "import json"
   ]
  },
  {
   "cell_type": "code",
   "execution_count": 2,
   "metadata": {},
   "outputs": [],
   "source": [
    "%matplotlib inline"
   ]
  },
  {
   "cell_type": "code",
   "execution_count": 3,
   "metadata": {},
   "outputs": [],
   "source": [
    "data_location = \"./data/\""
   ]
  },
  {
   "cell_type": "code",
   "execution_count": 6,
   "metadata": {},
   "outputs": [],
   "source": [
    "all_params = sio.loadmat(data_location + 'PGSE_params.mat')\n",
    "all_features = sio.loadmat(data_location + 'PGSE_features.mat')\n",
    "all_features_noise = sio.loadmat(data_location + 'PGSE_features_SNR40.mat')"
   ]
  },
  {
   "cell_type": "code",
   "execution_count": 7,
   "metadata": {},
   "outputs": [],
   "source": [
    "all_params = all_params['PGSE_params']\n",
    "all_features = all_features['PGSE_features']\n",
    "all_features_noise = all_features_noise['PGSE_features_SNR40']"
   ]
  },
  {
   "cell_type": "code",
   "execution_count": 8,
   "metadata": {},
   "outputs": [],
   "source": [
    "ap = pd.DataFrame(all_params)\n",
    "af = pd.DataFrame(all_features)\n",
    "afn = pd.DataFrame(all_features_noise)"
   ]
  },
  {
   "cell_type": "code",
   "execution_count": 9,
   "metadata": {},
   "outputs": [],
   "source": [
    "ap = pd.DataFrame(all_params)\n",
    "ap[\"Volume fraction\"] = ap[0]\n",
    "ap[\"Exchange time\"] = ap[3]\n",
    "ap[\"Diffusivity\"] = ap[4] * pow(10,9)\n",
    "del ap[5]\n",
    "del ap[4]\n",
    "del ap[3]\n",
    "del ap[2]\n",
    "del ap[1]\n",
    "del ap[0]"
   ]
  },
  {
   "cell_type": "code",
   "execution_count": 10,
   "metadata": {},
   "outputs": [
    {
     "name": "stdout",
     "output_type": "stream",
     "text": [
      "Volume fraction - min: 0.40050833378395123 max: 0.7334056524484522\n",
      "Exchange time - min: 0.021133992104562738 max: 0.9931751365336408\n",
      "Diffusivity - min: 0.8065463120925068 max: 2.192762268333131\n"
     ]
    }
   ],
   "source": [
    "print(\"Volume fraction - min: \" + str(ap[\"Volume fraction\"].min()) + \" max: \" + str(ap[\"Volume fraction\"].max()))\n",
    "print(\"Exchange time - min: \" + str(ap[\"Exchange time\"].min()) + \" max: \" + str(ap[\"Exchange time\"].max()))\n",
    "print(\"Diffusivity - min: \" + str(ap[\"Diffusivity\"].min()) + \" max: \" + str(ap[\"Diffusivity\"].max()))"
   ]
  },
  {
   "cell_type": "code",
   "execution_count": 11,
   "metadata": {},
   "outputs": [
    {
     "name": "stdout",
     "output_type": "stream",
     "text": [
      "Volume fraction range: (0.3,0.7)\n",
      "Exchange time range: (0,0.9)\n",
      "Diffusivity range: (0,0.3)\n"
     ]
    }
   ],
   "source": [
    "print(\"Volume fraction range: (0.3,0.7)\")\n",
    "print(\"Exchange time range: (0,0.9)\")\n",
    "print(\"Diffusivity range: (0,0.3)\")"
   ]
  },
  {
   "cell_type": "code",
   "execution_count": 12,
   "metadata": {},
   "outputs": [],
   "source": [
    "train_x, test_x, train_y, test_y = train_test_split(afn, ap)"
   ]
  },
  {
   "cell_type": "code",
   "execution_count": 13,
   "metadata": {},
   "outputs": [
    {
     "name": "stdout",
     "output_type": "stream",
     "text": [
      "Train:\n",
      "(8196, 240)\n",
      "(8196, 3)\n",
      "\n",
      "Test:\n",
      "(2733, 240)\n",
      "(2733, 3)\n"
     ]
    }
   ],
   "source": [
    "print(\"Train:\")\n",
    "print(train_x.shape)\n",
    "print(train_y.shape)\n",
    "print(\"\")\n",
    "print(\"Test:\")\n",
    "print(test_x.shape)\n",
    "print(test_y.shape)"
   ]
  },
  {
   "cell_type": "code",
   "execution_count": 15,
   "metadata": {},
   "outputs": [
    {
     "data": {
      "text/plain": [
       "Text(0,0.5,'Frequency')"
      ]
     },
     "execution_count": 15,
     "metadata": {},
     "output_type": "execute_result"
    },
    {
     "data": {
      "image/png": "[encoded data removed]",
      "text/plain": [
       "<matplotlib.figure.Figure at 0x7f637850e160>"
      ]
     },
     "metadata": {},
     "output_type": "display_data"
    },
    {
     "data": {
      "image/png": "[encoded data removed]",
      "text/plain": [
       "<matplotlib.figure.Figure at 0x7f637642cb38>"
      ]
     },
     "metadata": {},
     "output_type": "display_data"
    },
    {
     "data": {
      "image/png": "[encoded data removed]",
      "text/plain": [
       "<matplotlib.figure.Figure at 0x7f6376335080>"
      ]
     },
     "metadata": {},
     "output_type": "display_data"
    }
   ],
   "source": [
    "# Volume Fraction\n",
    "vf = plt.figure()\n",
    "plt.hist(train_y[\"Volume fraction\"])\n",
    "plt.hist(test_y[\"Volume fraction\"])\n",
    "plt.title(\"Volume Fraction\")\n",
    "plt.xlabel(\"Value\")\n",
    "plt.ylabel(\"Frequency\")\n",
    "\n",
    "# Exchange Time\n",
    "et = plt.figure()\n",
    "plt.hist(train_y[\"Exchange time\"])\n",
    "plt.hist(test_y[\"Exchange time\"])\n",
    "plt.title(\"Exchange Time\")\n",
    "plt.xlabel(\"Value\")\n",
    "plt.ylabel(\"Frequency\")\n",
    "\n",
    "# Diffusivity\n",
    "d = plt.figure()\n",
    "plt.hist(train_y[\"Diffusivity\"])\n",
    "plt.hist(test_y[\"Diffusivity\"])\n",
    "plt.title(\"Diffusivity\")\n",
    "plt.xlabel(\"Value\")\n",
    "plt.ylabel(\"Frequency\")"
   ]
  },
  {
   "cell_type": "code",
   "execution_count": 60,
   "metadata": {},
   "outputs": [],
   "source": [
    "shells = list(range(0, 16))\n",
    "shell_c4 = list(itertools.combinations(shells, 4))\n",
    "shell_c8 = list(itertools.combinations(shells, 8))"
   ]
  },
  {
   "cell_type": "code",
   "execution_count": 25,
   "metadata": {},
   "outputs": [],
   "source": [
    "def score_regressor(regressor, test_x, test_y):\n",
    "    test_predictions = regressor.predict(test_x)\n",
    "    \n",
    "    vf = pearsonr(test_y[\"Volume fraction\"], list(map(operator.itemgetter(0), test_predictions)))\n",
    "    et = pearsonr(test_y[\"Exchange time\"], list(map(operator.itemgetter(1), test_predictions)))\n",
    "    df = pearsonr(test_y[\"Diffusivity\"], list(map(operator.itemgetter(2), test_predictions)))\n",
    "    \n",
    "    return (vf, et, df)"
   ]
  },
  {
   "cell_type": "code",
   "execution_count": 41,
   "metadata": {},
   "outputs": [],
   "source": [
    "def features(shells):\n",
    "    features = []\n",
    "    for shell in shells:\n",
    "        shell *= 15\n",
    "        for i in range(0,15):\n",
    "            features += [shell + i]\n",
    "    return features\n",
    "\n",
    "def select_shells(data, shells):\n",
    "    return data.filter(features(shells), axis=1)"
   ]
  },
  {
   "cell_type": "code",
   "execution_count": 50,
   "metadata": {},
   "outputs": [],
   "source": [
    "def calculate_scores(train_x, train_y, test_x, test_y, shells):\n",
    "    train_x = select_shells(train_x, shells)\n",
    "    test_x = select_shells(test_x, shells)\n",
    "    regressor = RandomForestRegressor(max_depth=40, n_estimators=200, max_features=\"sqrt\")\n",
    "    regressor.fit(train_x, train_y)\n",
    "    scores = score_regressor(regressor, test_x, test_y)\n",
    "    return {\"shells\":shells, \"vf\":scores[0], \"et\":scores[1], \"df\":scores[2]}"
   ]
  },
  {
   "cell_type": "code",
   "execution_count": 85,
   "metadata": {},
   "outputs": [],
   "source": [
    "def calculate_scores_partial(shells):\n",
    "    return calculate_scores(train_x, train_y, test_x, test_y, shells)"
   ]
  },
  {
   "cell_type": "code",
   "execution_count": 62,
   "metadata": {},
   "outputs": [],
   "source": [
    "scores_c4 = []\n",
    "\n",
    "with multiprocessing.Pool(8) as p:\n",
    "    scores_c4 = p.map(calculate_scores_partial, shell_c4)"
   ]
  },
  {
   "cell_type": "code",
   "execution_count": 68,
   "metadata": {},
   "outputs": [],
   "source": [
    "with open('scores_c4_N.json', 'w') as fp:\n",
    "    json.dump(scores_c4, fp, sort_keys=True, indent=4)"
   ]
  },
  {
   "cell_type": "code",
   "execution_count": 86,
   "metadata": {},
   "outputs": [],
   "source": [
    "scores_c8 = []\n",
    "\n",
    "with multiprocessing.Pool(8) as p:\n",
    "    scores_c8 = p.map(calculate_scores_partial, shell_c8)"
   ]
  },
  {
   "cell_type": "code",
   "execution_count": 81,
   "metadata": {},
   "outputs": [
    {
     "name": "stdout",
     "output_type": "stream",
     "text": [
      "((5, 7, 12, 13), 0.9643796014915638)\n"
     ]
    },
    {
     "data": {
      "image/png": "[encoded data removed]",
      "text/plain": [
       "<matplotlib.figure.Figure at 0x7f6375dd5438>"
      ]
     },
     "metadata": {},
     "output_type": "display_data"
    }
   ],
   "source": [
    "# Volume fraction\n",
    "vf_scores = []\n",
    "\n",
    "for score in scores_c4:\n",
    "    vf_scores += [(score[\"shells\"], score[\"vf\"][0])]\n",
    "    \n",
    "vf_scores = sorted(vf_scores, key=operator.itemgetter(1))\n",
    "\n",
    "plt.plot(list(map(operator.itemgetter(1), vf_scores)))\n",
    "plt.savefig(\"vf_noisy_4_shells\")\n",
    "\n",
    "print(vf_scores[-1])"
   ]
  },
  {
   "cell_type": "code",
   "execution_count": 82,
   "metadata": {},
   "outputs": [
    {
     "name": "stdout",
     "output_type": "stream",
     "text": [
      "((4, 5, 7, 15), 0.3820057260779325)\n"
     ]
    },
    {
     "data": {
      "image/png": "[encoded data removed]",
      "text/plain": [
       "<matplotlib.figure.Figure at 0x7f6374076400>"
      ]
     },
     "metadata": {},
     "output_type": "display_data"
    }
   ],
   "source": [
    "# Exchange time\n",
    "et_scores = []\n",
    "\n",
    "for score in scores_c4:\n",
    "    et_scores += [(score[\"shells\"], score[\"et\"][0])]\n",
    "    \n",
    "et_scores = sorted(et_scores, key=operator.itemgetter(1))\n",
    "\n",
    "plt.plot(list(map(operator.itemgetter(1), et_scores)))\n",
    "plt.savefig(\"et_noisy_4_shells\")\n",
    "\n",
    "print(et_scores[-1])"
   ]
  },
  {
   "cell_type": "code",
   "execution_count": 83,
   "metadata": {},
   "outputs": [
    {
     "name": "stdout",
     "output_type": "stream",
     "text": [
      "((3, 5, 6, 7), 0.9973579362852589)\n"
     ]
    },
    {
     "data": {
      "image/png": "[encoded data removed]",
      "text/plain": [
       "<matplotlib.figure.Figure at 0x7f63740bcf98>"
      ]
     },
     "metadata": {},
     "output_type": "display_data"
    }
   ],
   "source": [
    "# Diffusivity\n",
    "df_scores = []\n",
    "\n",
    "for score in scores_c4:\n",
    "    df_scores += [(score[\"shells\"], score[\"df\"][0])]\n",
    "    \n",
    "df_scores = sorted(df_scores, key=operator.itemgetter(1))\n",
    "\n",
    "plt.plot(list(map(operator.itemgetter(1), df_scores)))\n",
    "plt.savefig(\"df_noisy_4_shells\")\n",
    "\n",
    "print(df_scores[-1])"
   ]
  },
  {
   "cell_type": "code",
   "execution_count": 88,
   "metadata": {},
   "outputs": [
    {
     "name": "stdout",
     "output_type": "stream",
     "text": [
      "((4, 5, 6, 7, 9, 12, 13, 14), 0.9690439043821186)\n"
     ]
    },
    {
     "data": {
      "image/png": "[encoded data removed]",
      "text/plain": [
       "<matplotlib.figure.Figure at 0x7f63762d1908>"
      ]
     },
     "metadata": {},
     "output_type": "display_data"
    }
   ],
   "source": [
    "# Volume fraction\n",
    "vf_scores = []\n",
    "\n",
    "for score in scores_c8:\n",
    "    vf_scores += [(score[\"shells\"], score[\"vf\"][0])]\n",
    "    \n",
    "vf_scores = sorted(vf_scores, key=operator.itemgetter(1))\n",
    "\n",
    "plt.plot(list(map(operator.itemgetter(1), vf_scores)))\n",
    "plt.savefig(\"vf_noisy_8_shells\")\n",
    "\n",
    "print(vf_scores[-1])"
   ]
  },
  {
   "cell_type": "code",
   "execution_count": 89,
   "metadata": {},
   "outputs": [
    {
     "name": "stdout",
     "output_type": "stream",
     "text": [
      "((0, 3, 4, 8, 9, 13, 14, 15), 0.4066119681586479)\n"
     ]
    },
    {
     "data": {
      "image/png": "[encoded data removed]",
      "text/plain": [
       "<matplotlib.figure.Figure at 0x7f63761eb470>"
      ]
     },
     "metadata": {},
     "output_type": "display_data"
    }
   ],
   "source": [
    "# Exchange time\n",
    "et_scores = []\n",
    "\n",
    "for score in scores_c8:\n",
    "    et_scores += [(score[\"shells\"], score[\"et\"][0])]\n",
    "    \n",
    "et_scores = sorted(et_scores, key=operator.itemgetter(1))\n",
    "\n",
    "plt.plot(list(map(operator.itemgetter(1), et_scores)))\n",
    "plt.savefig(\"et_noisy_8_shells\")\n",
    "\n",
    "print(et_scores[-1])"
   ]
  },
  {
   "cell_type": "code",
   "execution_count": 90,
   "metadata": {},
   "outputs": [
    {
     "name": "stdout",
     "output_type": "stream",
     "text": [
      "((0, 2, 3, 4, 5, 6, 7, 8), 0.9981216079896247)\n"
     ]
    },
    {
     "data": {
      "image/png": "[encoded data removed]",
      "text/plain": [
       "<matplotlib.figure.Figure at 0x7f63b4227048>"
      ]
     },
     "metadata": {},
     "output_type": "display_data"
    }
   ],
   "source": [
    "# Diffusivity\n",
    "df_scores = []\n",
    "\n",
    "for score in scores_c8:\n",
    "    df_scores += [(score[\"shells\"], score[\"df\"][0])]\n",
    "    \n",
    "df_scores = sorted(df_scores, key=operator.itemgetter(1))\n",
    "\n",
    "plt.plot(list(map(operator.itemgetter(1), df_scores)))\n",
    "plt.savefig(\"df_noisy_8_shells\")\n",
    "\n",
    "print(df_scores[-1])"
   ]
  },
  {
   "cell_type": "code",
   "execution_count": 87,
   "metadata": {},
   "outputs": [],
   "source": [
    "with open('scores_c8_N.json', 'w') as fp:\n",
    "    json.dump(scores_c8, fp, sort_keys=True, indent=4)"
   ]
  },
  {
   "cell_type": "code",
   "execution_count": null,
   "metadata": {},
   "outputs": [],
   "source": []
  }
 ],
 "metadata": {
  "kernelspec": {
   "display_name": "Python 3",
   "language": "python",
   "name": "python3"
  },
  "language_info": {
   "codemirror_mode": {
    "name": "ipython",
    "version": 3
   },
   "file_extension": ".py",
   "mimetype": "text/x-python",
   "name": "python",
   "nbconvert_exporter": "python",
   "pygments_lexer": "ipython3",
   "version": "3.5.2"
  }
 },
 "nbformat": 4,
 "nbformat_minor": 2
}
